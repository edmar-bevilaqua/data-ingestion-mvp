{
 "cells": [
  {
   "cell_type": "markdown",
   "id": "63eaec12",
   "metadata": {},
   "source": [
    "# Ingestion Notebook\n",
    "---\n",
    "In this notebook we will create a full pipeline to ingest data from public_apis."
   ]
  },
  {
   "cell_type": "markdown",
   "id": "b782e8c6",
   "metadata": {},
   "source": [
    "## Importing Libraries:"
   ]
  },
  {
   "cell_type": "code",
   "execution_count": 1,
   "id": "7be9142c",
   "metadata": {},
   "outputs": [
    {
     "data": {
      "text/plain": [
       "True"
      ]
     },
     "execution_count": 1,
     "metadata": {},
     "output_type": "execute_result"
    }
   ],
   "source": [
    "import os\n",
    "from dotenv import load_dotenv\n",
    "from pathlib import Path\n",
    "import json\n",
    "from pathlib import Path\n",
    "from typing import Any, Dict, Optional, Union, List\n",
    "import pandas as pd\n",
    "import requests\n",
    "from tenacity import retry, stop_after_attempt, wait_exponential, retry_if_exception_type\n",
    "load_dotenv()"
   ]
  },
  {
   "cell_type": "markdown",
   "id": "1919ce1e",
   "metadata": {},
   "source": [
    "## Helper Functions:"
   ]
  },
  {
   "cell_type": "code",
   "execution_count": 2,
   "id": "b369c26b",
   "metadata": {},
   "outputs": [],
   "source": [
    "PORTAL_TRANSPARENCIA_TOKEN = os.getenv(\"PORTAL_TRANSPARENCIA_TOKEN\", \"\").strip()\n",
    "\n",
    "DEFAULT_HEADERS = {\n",
    "    \"User-Agent\": \"mvp-ingestao-dados/0.1 (+https://example.com)\"\n",
    "}\n",
    "\n",
    "JSONType = Union[Dict[str, Any], List[Dict[str, Any]]]\n",
    "\n",
    "class HttpError(RuntimeError):\n",
    "    pass\n",
    "\n",
    "@retry(\n",
    "    reraise=True,\n",
    "    stop=stop_after_attempt(5),\n",
    "    wait=wait_exponential(multiplier=1, min=1, max=30),\n",
    "    retry=retry_if_exception_type((HttpError, requests.RequestException)),\n",
    ")\n",
    "def safe_get(url: str, *, params: Optional[Dict[str, Any]] = None, headers: Optional[Dict[str, str]] = None, timeout: int = 30) -> requests.Response:\n",
    "    resp = requests.get(url, params=params, headers=headers, timeout=timeout)\n",
    "    if resp.status_code >= 400:\n",
    "        raise HttpError(f\"GET {url} -> {resp.status_code} {resp.text[:200]}\")\n",
    "    return resp\n",
    "\n",
    "def save_raw(payload: Union[str, bytes], path: Path) -> None:\n",
    "    path.parent.mkdir(parents=True, exist_ok=True)\n",
    "    mode = \"wb\" if isinstance(payload, (bytes, bytearray)) else \"w\"\n",
    "    with open(path, mode) as f:\n",
    "        f.write(payload)\n",
    "\n",
    "def save_json(payload: JSONType, path: Path) -> None:\n",
    "    path.parent.mkdir(parents=True, exist_ok=True)\n",
    "    with open(path, \"w\", encoding=\"utf-8\") as f:\n",
    "        json.dump(payload, f, ensure_ascii=False, indent=2)\n",
    "\n",
    "def save_parquet(df: pd.DataFrame, path: Path) -> None:\n",
    "    path.parent.mkdir(parents=True, exist_ok=True)\n",
    "    for col in df.select_dtypes(include=[\"object\"]).columns:\n",
    "        df[col] = df[col].astype(\"string\")\n",
    "    df.to_parquet(path, index=False)\n"
   ]
  },
  {
   "cell_type": "markdown",
   "id": "815227bd",
   "metadata": {},
   "source": [
    "## Territórios do Brasil - IPEA:\n",
    "\n",
    "---"
   ]
  },
  {
   "cell_type": "code",
   "execution_count": 3,
   "id": "8a294991",
   "metadata": {},
   "outputs": [
    {
     "data": {
      "application/vnd.microsoft.datawrangler.viewer.v0+json": {
       "columns": [
        {
         "name": "index",
         "rawType": "int64",
         "type": "integer"
        },
        {
         "name": "NIVNOME",
         "rawType": "object",
         "type": "string"
        },
        {
         "name": "TERCODIGO",
         "rawType": "object",
         "type": "string"
        },
        {
         "name": "TERNOME",
         "rawType": "object",
         "type": "string"
        },
        {
         "name": "TERNOMEPADRAO",
         "rawType": "object",
         "type": "string"
        },
        {
         "name": "TERCAPITAL",
         "rawType": "object",
         "type": "unknown"
        },
        {
         "name": "TERAREA",
         "rawType": "float64",
         "type": "float"
        },
        {
         "name": "NIVAMC",
         "rawType": "object",
         "type": "unknown"
        }
       ],
       "ref": "9c44dabe-9318-4697-9834-9926f81b7843",
       "rows": [
        [
         "0",
         "Brasil",
         "0",
         "Brasil",
         "BRASIL",
         "False",
         "8531507.6",
         "False"
        ],
        [
         "1",
         "Regiões",
         "1",
         "Região Norte",
         "REGIAO NORTE",
         "False",
         "3869637.9",
         "False"
        ],
        [
         "2",
         "Estados",
         "11",
         "Rondônia",
         "RONDONIA",
         "False",
         "238512.8",
         "False"
        ],
        [
         "3",
         "Municípios",
         "1100015",
         "Alta Floresta D'Oeste",
         "ALTA FLORESTA D'OESTE",
         "False",
         "7111.8",
         "False"
        ],
        [
         "4",
         "Municípios",
         "1100023",
         "Ariquemes",
         "ARIQUEMES",
         "False",
         "4995.3",
         "False"
        ]
       ],
       "shape": {
        "columns": 7,
        "rows": 5
       }
      },
      "text/html": [
       "<div>\n",
       "<style scoped>\n",
       "    .dataframe tbody tr th:only-of-type {\n",
       "        vertical-align: middle;\n",
       "    }\n",
       "\n",
       "    .dataframe tbody tr th {\n",
       "        vertical-align: top;\n",
       "    }\n",
       "\n",
       "    .dataframe thead th {\n",
       "        text-align: right;\n",
       "    }\n",
       "</style>\n",
       "<table border=\"1\" class=\"dataframe\">\n",
       "  <thead>\n",
       "    <tr style=\"text-align: right;\">\n",
       "      <th></th>\n",
       "      <th>NIVNOME</th>\n",
       "      <th>TERCODIGO</th>\n",
       "      <th>TERNOME</th>\n",
       "      <th>TERNOMEPADRAO</th>\n",
       "      <th>TERCAPITAL</th>\n",
       "      <th>TERAREA</th>\n",
       "      <th>NIVAMC</th>\n",
       "    </tr>\n",
       "  </thead>\n",
       "  <tbody>\n",
       "    <tr>\n",
       "      <th>0</th>\n",
       "      <td>Brasil</td>\n",
       "      <td>0</td>\n",
       "      <td>Brasil</td>\n",
       "      <td>BRASIL</td>\n",
       "      <td>False</td>\n",
       "      <td>8531507.6</td>\n",
       "      <td>False</td>\n",
       "    </tr>\n",
       "    <tr>\n",
       "      <th>1</th>\n",
       "      <td>Regiões</td>\n",
       "      <td>1</td>\n",
       "      <td>Região Norte</td>\n",
       "      <td>REGIAO NORTE</td>\n",
       "      <td>False</td>\n",
       "      <td>3869637.9</td>\n",
       "      <td>False</td>\n",
       "    </tr>\n",
       "    <tr>\n",
       "      <th>2</th>\n",
       "      <td>Estados</td>\n",
       "      <td>11</td>\n",
       "      <td>Rondônia</td>\n",
       "      <td>RONDONIA</td>\n",
       "      <td>False</td>\n",
       "      <td>238512.8</td>\n",
       "      <td>False</td>\n",
       "    </tr>\n",
       "    <tr>\n",
       "      <th>3</th>\n",
       "      <td>Municípios</td>\n",
       "      <td>1100015</td>\n",
       "      <td>Alta Floresta D'Oeste</td>\n",
       "      <td>ALTA FLORESTA D'OESTE</td>\n",
       "      <td>False</td>\n",
       "      <td>7111.8</td>\n",
       "      <td>False</td>\n",
       "    </tr>\n",
       "    <tr>\n",
       "      <th>4</th>\n",
       "      <td>Municípios</td>\n",
       "      <td>1100023</td>\n",
       "      <td>Ariquemes</td>\n",
       "      <td>ARIQUEMES</td>\n",
       "      <td>False</td>\n",
       "      <td>4995.3</td>\n",
       "      <td>False</td>\n",
       "    </tr>\n",
       "  </tbody>\n",
       "</table>\n",
       "</div>"
      ],
      "text/plain": [
       "      NIVNOME TERCODIGO                TERNOME          TERNOMEPADRAO  \\\n",
       "0      Brasil         0                 Brasil                 BRASIL   \n",
       "1     Regiões         1           Região Norte           REGIAO NORTE   \n",
       "2     Estados        11               Rondônia               RONDONIA   \n",
       "3  Municípios   1100015  Alta Floresta D'Oeste  ALTA FLORESTA D'OESTE   \n",
       "4  Municípios   1100023              Ariquemes              ARIQUEMES   \n",
       "\n",
       "  TERCAPITAL    TERAREA NIVAMC  \n",
       "0      False  8531507.6  False  \n",
       "1      False  3869637.9  False  \n",
       "2      False   238512.8  False  \n",
       "3      False     7111.8  False  \n",
       "4      False     4995.3  False  "
      ]
     },
     "execution_count": 3,
     "metadata": {},
     "output_type": "execute_result"
    }
   ],
   "source": [
    "# DOC: https://www.ipeadata.gov.br/api/\n",
    "BASE_URL = \"http://www.ipeadata.gov.br/api/odata4/Territorios\"\n",
    "response = safe_get(BASE_URL)\n",
    "response_json = response.json()\n",
    "data = pd.DataFrame(response_json[\"value\"])\n",
    "data = data.loc[1:, :].reset_index(drop=True)\n",
    "data[\"TERAREA\"] = data[\"TERAREA\"].astype(float).round(3)\n",
    "data.head()"
   ]
  },
  {
   "cell_type": "markdown",
   "id": "d5f149ca",
   "metadata": {},
   "source": [
    "## Cotações - BANCO CENTRAL DO BRASIL (BCB)\n",
    "---"
   ]
  },
  {
   "cell_type": "markdown",
   "id": "dae8fe86",
   "metadata": {},
   "source": [
    "### SELIC - Cotação diária:"
   ]
  },
  {
   "cell_type": "code",
   "execution_count": 4,
   "id": "ba7c0411",
   "metadata": {},
   "outputs": [
    {
     "data": {
      "application/vnd.microsoft.datawrangler.viewer.v0+json": {
       "columns": [
        {
         "name": "index",
         "rawType": "int64",
         "type": "integer"
        },
        {
         "name": "data",
         "rawType": "object",
         "type": "string"
        },
        {
         "name": "valor",
         "rawType": "object",
         "type": "string"
        }
       ],
       "ref": "a7673180-b1c0-474b-abbf-751ac245d4c9",
       "rows": [
        [
         "0",
         "20/08/2025",
         "0.055131"
        ],
        [
         "1",
         "21/08/2025",
         "0.055131"
        ],
        [
         "2",
         "22/08/2025",
         "0.055131"
        ],
        [
         "3",
         "25/08/2025",
         "0.055131"
        ],
        [
         "4",
         "26/08/2025",
         "0.055131"
        ]
       ],
       "shape": {
        "columns": 2,
        "rows": 5
       }
      },
      "text/html": [
       "<div>\n",
       "<style scoped>\n",
       "    .dataframe tbody tr th:only-of-type {\n",
       "        vertical-align: middle;\n",
       "    }\n",
       "\n",
       "    .dataframe tbody tr th {\n",
       "        vertical-align: top;\n",
       "    }\n",
       "\n",
       "    .dataframe thead th {\n",
       "        text-align: right;\n",
       "    }\n",
       "</style>\n",
       "<table border=\"1\" class=\"dataframe\">\n",
       "  <thead>\n",
       "    <tr style=\"text-align: right;\">\n",
       "      <th></th>\n",
       "      <th>data</th>\n",
       "      <th>valor</th>\n",
       "    </tr>\n",
       "  </thead>\n",
       "  <tbody>\n",
       "    <tr>\n",
       "      <th>0</th>\n",
       "      <td>20/08/2025</td>\n",
       "      <td>0.055131</td>\n",
       "    </tr>\n",
       "    <tr>\n",
       "      <th>1</th>\n",
       "      <td>21/08/2025</td>\n",
       "      <td>0.055131</td>\n",
       "    </tr>\n",
       "    <tr>\n",
       "      <th>2</th>\n",
       "      <td>22/08/2025</td>\n",
       "      <td>0.055131</td>\n",
       "    </tr>\n",
       "    <tr>\n",
       "      <th>3</th>\n",
       "      <td>25/08/2025</td>\n",
       "      <td>0.055131</td>\n",
       "    </tr>\n",
       "    <tr>\n",
       "      <th>4</th>\n",
       "      <td>26/08/2025</td>\n",
       "      <td>0.055131</td>\n",
       "    </tr>\n",
       "  </tbody>\n",
       "</table>\n",
       "</div>"
      ],
      "text/plain": [
       "         data     valor\n",
       "0  20/08/2025  0.055131\n",
       "1  21/08/2025  0.055131\n",
       "2  22/08/2025  0.055131\n",
       "3  25/08/2025  0.055131\n",
       "4  26/08/2025  0.055131"
      ]
     },
     "execution_count": 4,
     "metadata": {},
     "output_type": "execute_result"
    }
   ],
   "source": [
    "# DOC: https://dadosabertos.bcb.gov.br/\n",
    "BASE_URL = \"https://api.bcb.gov.br/dados/serie/bcdata.sgs.{codigo_serie}/dados?formato=json&dataInicial={dataInicial}&dataFinal={dataFinal}\"\n",
    "today = pd.Timestamp.now().normalize().strftime(\"%d/%m/%Y\")\n",
    "last_30_days = (pd.Timestamp.now() - pd.Timedelta(days=30)).normalize().strftime(\"%d/%m/%Y\")\n",
    "selic_diaria_url = BASE_URL.format(codigo_serie=\"11\", dataInicial=last_30_days, dataFinal=today)\n",
    "\n",
    "response = safe_get(selic_diaria_url)\n",
    "response_json = response.json()\n",
    "selic_diaria = pd.DataFrame(response_json)\n",
    "selic_diaria.head()"
   ]
  },
  {
   "cell_type": "markdown",
   "id": "8278f460",
   "metadata": {},
   "source": [
    "### SELIC - Cotação mensal:"
   ]
  },
  {
   "cell_type": "code",
   "execution_count": 5,
   "id": "af451a4a",
   "metadata": {},
   "outputs": [
    {
     "data": {
      "application/vnd.microsoft.datawrangler.viewer.v0+json": {
       "columns": [
        {
         "name": "index",
         "rawType": "int64",
         "type": "integer"
        },
        {
         "name": "data",
         "rawType": "object",
         "type": "string"
        },
        {
         "name": "valor",
         "rawType": "object",
         "type": "string"
        }
       ],
       "ref": "22edc57c-2d86-4418-83a2-34e6f3d7b211",
       "rows": [
        [
         "0",
         "01/09/2024",
         "0.84"
        ],
        [
         "1",
         "01/10/2024",
         "0.93"
        ],
        [
         "2",
         "01/11/2024",
         "0.79"
        ],
        [
         "3",
         "01/12/2024",
         "0.93"
        ],
        [
         "4",
         "01/01/2025",
         "1.01"
        ]
       ],
       "shape": {
        "columns": 2,
        "rows": 5
       }
      },
      "text/html": [
       "<div>\n",
       "<style scoped>\n",
       "    .dataframe tbody tr th:only-of-type {\n",
       "        vertical-align: middle;\n",
       "    }\n",
       "\n",
       "    .dataframe tbody tr th {\n",
       "        vertical-align: top;\n",
       "    }\n",
       "\n",
       "    .dataframe thead th {\n",
       "        text-align: right;\n",
       "    }\n",
       "</style>\n",
       "<table border=\"1\" class=\"dataframe\">\n",
       "  <thead>\n",
       "    <tr style=\"text-align: right;\">\n",
       "      <th></th>\n",
       "      <th>data</th>\n",
       "      <th>valor</th>\n",
       "    </tr>\n",
       "  </thead>\n",
       "  <tbody>\n",
       "    <tr>\n",
       "      <th>0</th>\n",
       "      <td>01/09/2024</td>\n",
       "      <td>0.84</td>\n",
       "    </tr>\n",
       "    <tr>\n",
       "      <th>1</th>\n",
       "      <td>01/10/2024</td>\n",
       "      <td>0.93</td>\n",
       "    </tr>\n",
       "    <tr>\n",
       "      <th>2</th>\n",
       "      <td>01/11/2024</td>\n",
       "      <td>0.79</td>\n",
       "    </tr>\n",
       "    <tr>\n",
       "      <th>3</th>\n",
       "      <td>01/12/2024</td>\n",
       "      <td>0.93</td>\n",
       "    </tr>\n",
       "    <tr>\n",
       "      <th>4</th>\n",
       "      <td>01/01/2025</td>\n",
       "      <td>1.01</td>\n",
       "    </tr>\n",
       "  </tbody>\n",
       "</table>\n",
       "</div>"
      ],
      "text/plain": [
       "         data valor\n",
       "0  01/09/2024  0.84\n",
       "1  01/10/2024  0.93\n",
       "2  01/11/2024  0.79\n",
       "3  01/12/2024  0.93\n",
       "4  01/01/2025  1.01"
      ]
     },
     "execution_count": 5,
     "metadata": {},
     "output_type": "execute_result"
    }
   ],
   "source": [
    "# DOC: https://dadosabertos.bcb.gov.br/\n",
    "BASE_URL = \"https://api.bcb.gov.br/dados/serie/bcdata.sgs.{codigo_serie}/dados?formato=json&dataInicial={dataInicial}&dataFinal={dataFinal}\"\n",
    "today = pd.Timestamp.now().normalize().strftime(\"%d/%m/%Y\")\n",
    "last_year = (pd.Timestamp.now() - pd.Timedelta(days=365)).normalize().strftime(\"%d/%m/%Y\")\n",
    "selic_mensal_url = BASE_URL.format(codigo_serie=\"4390\", dataInicial=last_year, dataFinal=today)\n",
    "\n",
    "response = safe_get(selic_mensal_url)\n",
    "response_json = response.json()\n",
    "selic_mensal = pd.DataFrame(response_json)\n",
    "selic_mensal.head()\n",
    "\n",
    "selic_mensal.head()"
   ]
  },
  {
   "cell_type": "markdown",
   "id": "9bab3b28",
   "metadata": {},
   "source": [
    "### Moedas - Símbolos e Nomes:"
   ]
  },
  {
   "cell_type": "code",
   "execution_count": 6,
   "id": "31f659da",
   "metadata": {},
   "outputs": [
    {
     "data": {
      "application/vnd.microsoft.datawrangler.viewer.v0+json": {
       "columns": [
        {
         "name": "index",
         "rawType": "int64",
         "type": "integer"
        },
        {
         "name": "simbolo",
         "rawType": "object",
         "type": "string"
        },
        {
         "name": "nomeFormatado",
         "rawType": "object",
         "type": "string"
        },
        {
         "name": "tipoMoeda",
         "rawType": "object",
         "type": "string"
        }
       ],
       "ref": "dbbeea26-c3db-4726-b1c8-325e17825ba3",
       "rows": [
        [
         "0",
         "AUD",
         "Dólar australiano",
         "B"
        ],
        [
         "1",
         "CAD",
         "Dólar canadense",
         "A"
        ],
        [
         "2",
         "CHF",
         "Franco suíço",
         "A"
        ],
        [
         "3",
         "DKK",
         "Coroa dinamarquesa",
         "A"
        ],
        [
         "4",
         "EUR",
         "Euro",
         "B"
        ]
       ],
       "shape": {
        "columns": 3,
        "rows": 5
       }
      },
      "text/html": [
       "<div>\n",
       "<style scoped>\n",
       "    .dataframe tbody tr th:only-of-type {\n",
       "        vertical-align: middle;\n",
       "    }\n",
       "\n",
       "    .dataframe tbody tr th {\n",
       "        vertical-align: top;\n",
       "    }\n",
       "\n",
       "    .dataframe thead th {\n",
       "        text-align: right;\n",
       "    }\n",
       "</style>\n",
       "<table border=\"1\" class=\"dataframe\">\n",
       "  <thead>\n",
       "    <tr style=\"text-align: right;\">\n",
       "      <th></th>\n",
       "      <th>simbolo</th>\n",
       "      <th>nomeFormatado</th>\n",
       "      <th>tipoMoeda</th>\n",
       "    </tr>\n",
       "  </thead>\n",
       "  <tbody>\n",
       "    <tr>\n",
       "      <th>0</th>\n",
       "      <td>AUD</td>\n",
       "      <td>Dólar australiano</td>\n",
       "      <td>B</td>\n",
       "    </tr>\n",
       "    <tr>\n",
       "      <th>1</th>\n",
       "      <td>CAD</td>\n",
       "      <td>Dólar canadense</td>\n",
       "      <td>A</td>\n",
       "    </tr>\n",
       "    <tr>\n",
       "      <th>2</th>\n",
       "      <td>CHF</td>\n",
       "      <td>Franco suíço</td>\n",
       "      <td>A</td>\n",
       "    </tr>\n",
       "    <tr>\n",
       "      <th>3</th>\n",
       "      <td>DKK</td>\n",
       "      <td>Coroa dinamarquesa</td>\n",
       "      <td>A</td>\n",
       "    </tr>\n",
       "    <tr>\n",
       "      <th>4</th>\n",
       "      <td>EUR</td>\n",
       "      <td>Euro</td>\n",
       "      <td>B</td>\n",
       "    </tr>\n",
       "  </tbody>\n",
       "</table>\n",
       "</div>"
      ],
      "text/plain": [
       "  simbolo       nomeFormatado tipoMoeda\n",
       "0     AUD   Dólar australiano         B\n",
       "1     CAD     Dólar canadense         A\n",
       "2     CHF        Franco suíço         A\n",
       "3     DKK  Coroa dinamarquesa         A\n",
       "4     EUR                Euro         B"
      ]
     },
     "execution_count": 6,
     "metadata": {},
     "output_type": "execute_result"
    }
   ],
   "source": [
    "# DOC: https://olinda.bcb.gov.br/olinda/servico/PTAX/versao/v1/swagger-ui3#/\n",
    "BASE_URL = \"https://olinda.bcb.gov.br/olinda/servico/PTAX/versao/v1/odata/Moedas\"\n",
    "\n",
    "response = safe_get(BASE_URL)\n",
    "response_json = response.json()\n",
    "moedas = pd.DataFrame(response_json['value'])\n",
    "moedas.head()"
   ]
  },
  {
   "cell_type": "markdown",
   "id": "e23cfa4d",
   "metadata": {},
   "source": [
    "### Dólar - Cotação por Período:"
   ]
  },
  {
   "cell_type": "code",
   "execution_count": 7,
   "id": "44d899fe",
   "metadata": {},
   "outputs": [
    {
     "data": {
      "application/vnd.microsoft.datawrangler.viewer.v0+json": {
       "columns": [
        {
         "name": "index",
         "rawType": "int64",
         "type": "integer"
        },
        {
         "name": "cotacaoCompra",
         "rawType": "float64",
         "type": "float"
        },
        {
         "name": "cotacaoVenda",
         "rawType": "float64",
         "type": "float"
        },
        {
         "name": "dataHoraCotacao",
         "rawType": "object",
         "type": "string"
        }
       ],
       "ref": "cf821a43-5c48-4fb1-bdf6-ea6cc65bfaf5",
       "rows": [
        [
         "0",
         "5.472",
         "5.4726",
         "2025-08-20 13:12:26.131"
        ],
        [
         "1",
         "5.4822",
         "5.4828",
         "2025-08-21 13:10:49.662"
        ],
        [
         "2",
         "5.4386",
         "5.4392",
         "2025-08-22 13:06:18.381"
        ],
        [
         "3",
         "5.4168",
         "5.4174",
         "2025-08-25 13:06:50.314"
        ],
        [
         "4",
         "5.4212",
         "5.4218",
         "2025-08-26 13:06:46.354"
        ]
       ],
       "shape": {
        "columns": 3,
        "rows": 5
       }
      },
      "text/html": [
       "<div>\n",
       "<style scoped>\n",
       "    .dataframe tbody tr th:only-of-type {\n",
       "        vertical-align: middle;\n",
       "    }\n",
       "\n",
       "    .dataframe tbody tr th {\n",
       "        vertical-align: top;\n",
       "    }\n",
       "\n",
       "    .dataframe thead th {\n",
       "        text-align: right;\n",
       "    }\n",
       "</style>\n",
       "<table border=\"1\" class=\"dataframe\">\n",
       "  <thead>\n",
       "    <tr style=\"text-align: right;\">\n",
       "      <th></th>\n",
       "      <th>cotacaoCompra</th>\n",
       "      <th>cotacaoVenda</th>\n",
       "      <th>dataHoraCotacao</th>\n",
       "    </tr>\n",
       "  </thead>\n",
       "  <tbody>\n",
       "    <tr>\n",
       "      <th>0</th>\n",
       "      <td>5.4720</td>\n",
       "      <td>5.4726</td>\n",
       "      <td>2025-08-20 13:12:26.131</td>\n",
       "    </tr>\n",
       "    <tr>\n",
       "      <th>1</th>\n",
       "      <td>5.4822</td>\n",
       "      <td>5.4828</td>\n",
       "      <td>2025-08-21 13:10:49.662</td>\n",
       "    </tr>\n",
       "    <tr>\n",
       "      <th>2</th>\n",
       "      <td>5.4386</td>\n",
       "      <td>5.4392</td>\n",
       "      <td>2025-08-22 13:06:18.381</td>\n",
       "    </tr>\n",
       "    <tr>\n",
       "      <th>3</th>\n",
       "      <td>5.4168</td>\n",
       "      <td>5.4174</td>\n",
       "      <td>2025-08-25 13:06:50.314</td>\n",
       "    </tr>\n",
       "    <tr>\n",
       "      <th>4</th>\n",
       "      <td>5.4212</td>\n",
       "      <td>5.4218</td>\n",
       "      <td>2025-08-26 13:06:46.354</td>\n",
       "    </tr>\n",
       "  </tbody>\n",
       "</table>\n",
       "</div>"
      ],
      "text/plain": [
       "   cotacaoCompra  cotacaoVenda          dataHoraCotacao\n",
       "0         5.4720        5.4726  2025-08-20 13:12:26.131\n",
       "1         5.4822        5.4828  2025-08-21 13:10:49.662\n",
       "2         5.4386        5.4392  2025-08-22 13:06:18.381\n",
       "3         5.4168        5.4174  2025-08-25 13:06:50.314\n",
       "4         5.4212        5.4218  2025-08-26 13:06:46.354"
      ]
     },
     "execution_count": 7,
     "metadata": {},
     "output_type": "execute_result"
    }
   ],
   "source": [
    "# DOC: https://olinda.bcb.gov.br/olinda/servico/PTAX/versao/v1/swagger-ui3#/\n",
    "BASE_URL = \"https://olinda.bcb.gov.br/olinda/servico/PTAX/versao/v1/odata/CotacaoDolarPeriodo(dataInicial=@dataInicial,dataFinalCotacao=@dataFinalCotacao)?@dataInicial='{dataInicial}'&@dataFinalCotacao='{dataFinalCotacao}'&$format=json\"\n",
    "\n",
    "today = pd.Timestamp.now().normalize().strftime(\"%m-%d-%Y\")\n",
    "last_30_days = (pd.Timestamp.now() - pd.Timedelta(days=30)).normalize().strftime(\"%m-%d-%Y\")\n",
    "dolar_periodo_url = BASE_URL.format(dataInicial=last_30_days, dataFinalCotacao=today)\n",
    "\n",
    "response = safe_get(dolar_periodo_url)\n",
    "response_json = response.json()\n",
    "dolar_periodo = pd.DataFrame(response_json['value'])\n",
    "dolar_periodo.head()"
   ]
  },
  {
   "cell_type": "markdown",
   "id": "4f1d555c",
   "metadata": {},
   "source": [
    "### Outras Moedas - Cotação por Período:"
   ]
  },
  {
   "cell_type": "code",
   "execution_count": 8,
   "id": "b3560ccc",
   "metadata": {},
   "outputs": [
    {
     "data": {
      "application/vnd.microsoft.datawrangler.viewer.v0+json": {
       "columns": [
        {
         "name": "index",
         "rawType": "int64",
         "type": "integer"
        },
        {
         "name": "paridadeCompra",
         "rawType": "float64",
         "type": "float"
        },
        {
         "name": "paridadeVenda",
         "rawType": "float64",
         "type": "float"
        },
        {
         "name": "cotacaoCompra",
         "rawType": "float64",
         "type": "float"
        },
        {
         "name": "cotacaoVenda",
         "rawType": "float64",
         "type": "float"
        },
        {
         "name": "dataHoraCotacao",
         "rawType": "object",
         "type": "string"
        },
        {
         "name": "tipoBoletim",
         "rawType": "object",
         "type": "string"
        }
       ],
       "ref": "e5fe0f16-6570-4824-a8e0-c017cc8adae3",
       "rows": [
        [
         "0",
         "1.167",
         "1.1672",
         "6.3852",
         "6.387",
         "2025-08-20 10:08:27.613",
         "Abertura"
        ],
        [
         "1",
         "1.1658",
         "1.1659",
         "6.3824",
         "6.3837",
         "2025-08-20 11:02:27.104",
         "Intermediário"
        ],
        [
         "2",
         "1.1662",
         "1.1664",
         "6.3799",
         "6.3817",
         "2025-08-20 12:06:26.755",
         "Intermediário"
        ],
        [
         "3",
         "1.1648",
         "1.1649",
         "6.3729",
         "6.3741",
         "2025-08-20 13:12:26.122",
         "Intermediário"
        ],
        [
         "4",
         "1.1648",
         "1.1649",
         "6.3738",
         "6.375",
         "2025-08-20 13:12:26.131",
         "Fechamento"
        ]
       ],
       "shape": {
        "columns": 6,
        "rows": 5
       }
      },
      "text/html": [
       "<div>\n",
       "<style scoped>\n",
       "    .dataframe tbody tr th:only-of-type {\n",
       "        vertical-align: middle;\n",
       "    }\n",
       "\n",
       "    .dataframe tbody tr th {\n",
       "        vertical-align: top;\n",
       "    }\n",
       "\n",
       "    .dataframe thead th {\n",
       "        text-align: right;\n",
       "    }\n",
       "</style>\n",
       "<table border=\"1\" class=\"dataframe\">\n",
       "  <thead>\n",
       "    <tr style=\"text-align: right;\">\n",
       "      <th></th>\n",
       "      <th>paridadeCompra</th>\n",
       "      <th>paridadeVenda</th>\n",
       "      <th>cotacaoCompra</th>\n",
       "      <th>cotacaoVenda</th>\n",
       "      <th>dataHoraCotacao</th>\n",
       "      <th>tipoBoletim</th>\n",
       "    </tr>\n",
       "  </thead>\n",
       "  <tbody>\n",
       "    <tr>\n",
       "      <th>0</th>\n",
       "      <td>1.1670</td>\n",
       "      <td>1.1672</td>\n",
       "      <td>6.3852</td>\n",
       "      <td>6.3870</td>\n",
       "      <td>2025-08-20 10:08:27.613</td>\n",
       "      <td>Abertura</td>\n",
       "    </tr>\n",
       "    <tr>\n",
       "      <th>1</th>\n",
       "      <td>1.1658</td>\n",
       "      <td>1.1659</td>\n",
       "      <td>6.3824</td>\n",
       "      <td>6.3837</td>\n",
       "      <td>2025-08-20 11:02:27.104</td>\n",
       "      <td>Intermediário</td>\n",
       "    </tr>\n",
       "    <tr>\n",
       "      <th>2</th>\n",
       "      <td>1.1662</td>\n",
       "      <td>1.1664</td>\n",
       "      <td>6.3799</td>\n",
       "      <td>6.3817</td>\n",
       "      <td>2025-08-20 12:06:26.755</td>\n",
       "      <td>Intermediário</td>\n",
       "    </tr>\n",
       "    <tr>\n",
       "      <th>3</th>\n",
       "      <td>1.1648</td>\n",
       "      <td>1.1649</td>\n",
       "      <td>6.3729</td>\n",
       "      <td>6.3741</td>\n",
       "      <td>2025-08-20 13:12:26.122</td>\n",
       "      <td>Intermediário</td>\n",
       "    </tr>\n",
       "    <tr>\n",
       "      <th>4</th>\n",
       "      <td>1.1648</td>\n",
       "      <td>1.1649</td>\n",
       "      <td>6.3738</td>\n",
       "      <td>6.3750</td>\n",
       "      <td>2025-08-20 13:12:26.131</td>\n",
       "      <td>Fechamento</td>\n",
       "    </tr>\n",
       "  </tbody>\n",
       "</table>\n",
       "</div>"
      ],
      "text/plain": [
       "   paridadeCompra  paridadeVenda  cotacaoCompra  cotacaoVenda  \\\n",
       "0          1.1670         1.1672         6.3852        6.3870   \n",
       "1          1.1658         1.1659         6.3824        6.3837   \n",
       "2          1.1662         1.1664         6.3799        6.3817   \n",
       "3          1.1648         1.1649         6.3729        6.3741   \n",
       "4          1.1648         1.1649         6.3738        6.3750   \n",
       "\n",
       "           dataHoraCotacao    tipoBoletim  \n",
       "0  2025-08-20 10:08:27.613       Abertura  \n",
       "1  2025-08-20 11:02:27.104  Intermediário  \n",
       "2  2025-08-20 12:06:26.755  Intermediário  \n",
       "3  2025-08-20 13:12:26.122  Intermediário  \n",
       "4  2025-08-20 13:12:26.131     Fechamento  "
      ]
     },
     "execution_count": 8,
     "metadata": {},
     "output_type": "execute_result"
    }
   ],
   "source": [
    "# DOC: https://olinda.bcb.gov.br/olinda/servico/PTAX/versao/v1/swagger-ui3#/\n",
    "BASE_URL = \"https://olinda.bcb.gov.br/olinda/servico/PTAX/versao/v1/odata/CotacaoMoedaPeriodo(moeda=@moeda,dataInicial=@dataInicial,dataFinalCotacao=@dataFinalCotacao)?@moeda='{moeda}'&@dataInicial='{dataInicial}'&@dataFinalCotacao='{dataFinalCotacao}'&$format=json\"\n",
    "\n",
    "today = pd.Timestamp.now().normalize().strftime(\"%m-%d-%Y\")\n",
    "last_30_days = (pd.Timestamp.now() - pd.Timedelta(days=30)).normalize().strftime(\"%m-%d-%Y\")\n",
    "dolar_periodo_url = BASE_URL.format(moeda='EUR', dataInicial=last_30_days, dataFinalCotacao=today)\n",
    "\n",
    "response = safe_get(dolar_periodo_url)\n",
    "response_json = response.json()\n",
    "dolar_periodo = pd.DataFrame(response_json['value'])\n",
    "dolar_periodo.head()"
   ]
  },
  {
   "cell_type": "code",
   "execution_count": null,
   "id": "86c05fbb",
   "metadata": {},
   "outputs": [],
   "source": []
  }
 ],
 "metadata": {
  "kernelspec": {
   "display_name": "white-cube-py3.11",
   "language": "python",
   "name": "python3"
  },
  "language_info": {
   "codemirror_mode": {
    "name": "ipython",
    "version": 3
   },
   "file_extension": ".py",
   "mimetype": "text/x-python",
   "name": "python",
   "nbconvert_exporter": "python",
   "pygments_lexer": "ipython3",
   "version": "3.11.9"
  }
 },
 "nbformat": 4,
 "nbformat_minor": 5
}
